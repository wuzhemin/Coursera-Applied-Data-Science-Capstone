{
 "cells": [
  {
   "cell_type": "markdown",
   "metadata": {},
   "source": [
    "# Coursera Applied Data Science Capstone Project Report\n",
    "# The Battle of Neighborhoods\n",
    "## By Zhemin Wu\n",
    "### This is report notebook for the Applied Data Science Capstone project"
   ]
  },
  {
   "cell_type": "markdown",
   "metadata": {},
   "source": [
    "## Table of Contents\n",
    "\n",
    "\n",
    "<font size = 3>\n",
    "\n",
    "1.  [Introduction/Business Problem](#item1)\n",
    "\n",
    "2.  [Data](#item2)\n",
    "\n",
    "    </font>\n",
    "\n"
   ]
  },
  {
   "cell_type": "markdown",
   "metadata": {},
   "source": [
    "## Part I: Introduction/Business Problem <a class=\"anchor\" id=\"item1\"></a>"
   ]
  },
  {
   "cell_type": "markdown",
   "metadata": {},
   "source": [
    "## The best neighbourhood to settle down for a relocation\n",
    "### Problem Description:\n",
    "\n",
    "Assume we are a relocation service provider. One of our clients is going to relocate to another city due to some personal or business reasons, e.g relocating from Hong Kong to Shanghai. One of the most common questions he/she may ask is \"Which neighborhood of that city is most comparable to my current home location and has best access to Gym/Japanese Restaurant/Theatre or less crowded?\" Our task is just to help our client with pickcing up top choices of neighborhoods/districts in the target city according to the similarity to client's current home location and client's venue access preferences or other considerations like population density of the region.   \n",
    "\n",
    "### Methodology:\n",
    "To complete this task, we will need to do the following:\n",
    " - Collect geospatial coordinates of client's current home and all the neighborhoods in the city they are moving to.\n",
    " - Explore the popular venues around client's current home and all the neighborhoods around the target city using Foursquare's places API\n",
    " - Specify client's venue type preferences and cluster the neighborhoods according to their prefered venue types using a Machine Learning model (e.g. K-Means).\n",
    " - Using the venues info of client's home to get similar neighborhoods in the target city, and recommond the best one/ones according to client's preferences. We can achieve this last step by doing the following\n",
    "     - We can combine the venues info of client's home with those in the target city and cluster togehter with K-Means, then we can get the cluster label of client's home \n",
    "     - Get a list of all the neighborhoods in the target city with the same cluster label and sort by client's venue type preferences\n",
    "     - Pick the top neighborhoods from the list\n",
    " "
   ]
  },
  {
   "cell_type": "markdown",
   "metadata": {},
   "source": [
    "## Part II: Data <a class=\"anchor\" id=\"item2\"></a>\n",
    "\n",
    "### Data Needed:\n",
    "To complete this task, we will need the following data:\n",
    " - Geospatial coordinates of client's current home and all the neighborhoods in the city they are moving to.\n",
    " - Explore the popular venues around client's current home and all the neighborhoods around the target city using Foursquare's places API"
   ]
  },
  {
   "cell_type": "markdown",
   "metadata": {},
   "source": [
    "### Collect geospatial coordinates data of client's current home location. The client is currently living in Central, Hong Kong\n",
    "We can use geopy's Nominatim module to covert an address into latitude and longitude values. The client is currently living in the Central, Hong Kong. \n",
    "\n",
    "The geogspatial coordinates of client's home at Central, Hong Kong are **(22.2793278, 114.1628131)**."
   ]
  },
  {
   "cell_type": "markdown",
   "metadata": {},
   "source": [
    "### Collect base data of the target city. The client is moving to Shanghai in China\n",
    "The wikipedia page of [administrative divisions of Shanghai](https://en.wikipedia.org/wiki/List_of_administrative_divisions_of_Shanghai) contains a table listing all the 16 districts in Shanghai with the area, population and population density info. We will grab the raw table from the wiki page using the Pandas web scraping func. \n",
    "\n",
    "The raw datafram looks like below\n",
    "\n",
    "<img src=\"raw_data.jpg\">"
   ]
  },
  {
   "cell_type": "markdown",
   "metadata": {},
   "source": [
    "### Clean up the raw base data, drop unnecessary columns and convert names\n",
    "Next we can clean up the above dataframe by droping unnecessary columns and do some renaming. Note that for the \"Name\" column, we only need the distric names. So we will covert that column also. And then we finally get the following clean dataframe.  \n",
    "\n",
    "<img src=\"clean_data.jpg\">"
   ]
  },
  {
   "cell_type": "markdown",
   "metadata": {},
   "source": [
    "### Collect geospatial coordinates of all districts in Shanghai\n",
    "We now can collect latitude and longitude values for all the 16 districts in Shanghai and combine those coordinates with the base datafram. We then obtain the follow dataframe with coordinates\n",
    "<img src=\"clean_data_coordinates.jpg\">\n"
   ]
  },
  {
   "cell_type": "markdown",
   "metadata": {},
   "source": [
    "### Now take a look at these neighborhoods in Shanghai on a map\n",
    "\n",
    "<img src=\"shanghai_districts.jpg\">"
   ]
  },
  {
   "cell_type": "markdown",
   "metadata": {},
   "source": [
    "### Now we can explore popular venues around all the disctricts in Shanghai and around the client's current home location in Central, Hong Kong.\n",
    "We created a copy of the above dataframe and simplified it with only district name and geospatial coordinates info. We also append the same info of the client's home location in the Central, Hong Kong to the dataframe. Then we explore all the nearby venues around these locations within 5km radius using the Foursquare Places API.\n",
    "\n",
    "We finally got a datafram looks like below (first 5 rows)\n",
    "<img src=\"venue_data.jpg\">"
   ]
  },
  {
   "cell_type": "markdown",
   "metadata": {},
   "source": [
    "## So up to this point, we have completed with our data preparation and we will analyze these data and build up a Machine Learning model to complete our neighborhood recommendation task\n",
    "\n"
   ]
  },
  {
   "cell_type": "code",
   "execution_count": null,
   "metadata": {},
   "outputs": [],
   "source": []
  }
 ],
 "metadata": {
  "kernelspec": {
   "display_name": "Python 3",
   "language": "python",
   "name": "python3"
  },
  "language_info": {
   "codemirror_mode": {
    "name": "ipython",
    "version": 3
   },
   "file_extension": ".py",
   "mimetype": "text/x-python",
   "name": "python",
   "nbconvert_exporter": "python",
   "pygments_lexer": "ipython3",
   "version": "3.8.5"
  }
 },
 "nbformat": 4,
 "nbformat_minor": 4
}
